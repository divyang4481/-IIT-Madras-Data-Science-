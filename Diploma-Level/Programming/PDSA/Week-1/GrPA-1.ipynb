{
 "cells": [
  {
   "cell_type": "code",
   "execution_count": null,
   "metadata": {},
   "outputs": [
    {
     "ename": "",
     "evalue": "",
     "output_type": "error",
     "traceback": [
      "\u001b[1;31mFailed to start the Kernel. \n",
      "\u001b[1;31mC:\\Users\\divyanglab\\AppData\\Local\\Packages\\PythonSoftwareFoundation.Python.3.9_qbz5n2kfra8p0\\LocalCache\\local-packages\\Python39\\site-packages\\traitlets\\traitlets.py:2392: FutureWarning: Supporting extra quotes around strings is deprecated in traitlets 5.0. You can use 'hmac-sha256' instead of '\"hmac-sha256\"' if you require traitlets >=5.\n",
      "\u001b[1;31m  warn(\n",
      "\u001b[1;31mC:\\Users\\divyanglab\\AppData\\Local\\Packages\\PythonSoftwareFoundation.Python.3.9_qbz5n2kfra8p0\\LocalCache\\local-packages\\Python39\\site-packages\\traitlets\\traitlets.py:2346: FutureWarning: Supporting extra quotes around Bytes is deprecated in traitlets 5.0. Use '8e01150a-8a5c-4ff3-86fc-358a08547be9' instead of 'b\"8e01150a-8a5c-4ff3-86fc-358a08547be9\"'.\n",
      "\u001b[1;31m  warn(\n",
      "\u001b[1;31mBad file descriptor (C:\\projects\\libzmq\\src\\epoll.cpp:100). \n",
      "\u001b[1;31mView Jupyter <a href='command:jupyter.viewOutput'>log</a> for further details."
     ]
    }
   ],
   "source": [
    "\n",
    "\n",
    "def find_Min_Difference(L,P):\n",
    "  L.sort()\n",
    "  N = P\n",
    "  M = len(L)\n",
    "  min_diff = max(L) - min(L)\n",
    "  for i in range(M-N+1):\n",
    "    if L[i+N-1] - L[i] < min_diff:\n",
    "      min_diff = L[i+N-1] - L[i]\n",
    "  return min_diff\n",
    "L=eval(input().strip())\n",
    "P=int(input())\n",
    "print(find_Min_Difference(L,P))"
   ]
  }
 ],
 "metadata": {
  "kernelspec": {
   "display_name": "Python 3.9.13 64-bit (microsoft store)",
   "language": "python",
   "name": "python3"
  },
  "language_info": {
   "name": "python",
   "version": "3.9.13"
  },
  "orig_nbformat": 4,
  "vscode": {
   "interpreter": {
    "hash": "7e44f108bad5dfbab598df89796efaa903ad8991eb9c66739f1136273ba4a2be"
   }
  }
 },
 "nbformat": 4,
 "nbformat_minor": 2
}
